{
  "nbformat": 4,
  "nbformat_minor": 0,
  "metadata": {
    "accelerator": "GPU",
    "colab": {
      "name": "cifar10_v6.ipynb",
      "provenance": [],
      "collapsed_sections": []
    },
    "kernelspec": {
      "display_name": "Python 3",
      "language": "python",
      "name": "python3"
    },
    "language_info": {
      "codemirror_mode": {
        "name": "ipython",
        "version": 3
      },
      "file_extension": ".py",
      "mimetype": "text/x-python",
      "name": "python",
      "nbconvert_exporter": "python",
      "pygments_lexer": "ipython3",
      "version": "3.8.5"
    }
  },
  "cells": [
    {
      "cell_type": "markdown",
      "metadata": {
        "id": "dWY7kSPW9oJm"
      },
      "source": [
        "![Nuclio logo](https://nuclio.school/wp-content/uploads/2018/12/nucleoDS-newBlack.png)"
      ]
    },
    {
      "cell_type": "markdown",
      "metadata": {
        "id": "e5awq5ZU9oJn"
      },
      "source": [
        "## 1. Librerias\n",
        "\n",
        "Para empezar carguemos esas librerias que nos hacen falta"
      ]
    },
    {
      "cell_type": "code",
      "metadata": {
        "id": "6e89W2u_9oJo"
      },
      "source": [
        "from tensorflow import keras as ks\n",
        "from matplotlib import pyplot as plt\n",
        "import numpy as np\n",
        "import pandas as pd\n",
        "import time\n",
        "import datetime\n",
        "\n",
        "from tensorflow.keras.callbacks import EarlyStopping\n",
        "\n",
        "from tensorflow.keras.applications import vgg16\n",
        "from tensorflow.keras.models import Model\n",
        "\n",
        "MODELO = 6\n",
        "\n",
        "ANCHO_IMAGEN, ALTURA_IMAGEN, CANALES_IMAGENES = 32, 32, 3"
      ],
      "execution_count": 1,
      "outputs": []
    },
    {
      "cell_type": "markdown",
      "metadata": {
        "id": "6_dptlpJ9oJp"
      },
      "source": [
        "## 2. Arquitectura de red del modelo\n"
      ]
    },
    {
      "cell_type": "code",
      "metadata": {
        "id": "8qPdnX9t7syx"
      },
      "source": [
        ""
      ],
      "execution_count": 1,
      "outputs": []
    },
    {
      "cell_type": "code",
      "metadata": {
        "id": "JoDemzDV9oJp"
      },
      "source": [
        "model = ks.Sequential()\n",
        "\n",
        "model.add(ks.layers.Conv2D(64, (3, 3), strides=1, activation='relu', \n",
        "          kernel_initializer='he_uniform',padding='same',input_shape=(32,32,3)))\n",
        "model.add(ks.layers.Conv2D(64, (3, 3), strides=1, activation='relu', \n",
        "          kernel_initializer='he_uniform',padding='same'))\n",
        "model.add(ks.layers.MaxPooling2D((2, 2)))\n",
        "model.add(ks.layers.Dropout(0.6))\n",
        "\n",
        "model.add(ks.layers.Conv2D(128, (3, 3), strides=1, activation='relu', \n",
        "          kernel_initializer='he_uniform',padding='same'))\n",
        "model.add(ks.layers.Conv2D(128, (3, 3), strides=1, activation='relu', \n",
        "          kernel_initializer='he_uniform',padding='same'))\n",
        "model.add(ks.layers.Conv2D(128, (3, 3), strides=1, activation='relu', \n",
        "          kernel_initializer='he_uniform',padding='same'))\n",
        "model.add(ks.layers.MaxPooling2D((2, 2)))\n",
        "model.add(ks.layers.Dropout(0.5))\n",
        "\n",
        "model.add(ks.layers.Conv2D(256, (3, 3), strides=1, activation='relu', \n",
        "          kernel_initializer='he_uniform',padding='same'))\n",
        "model.add(ks.layers.Conv2D(256, (3, 3), strides=1, activation='relu', \n",
        "          kernel_initializer='he_uniform',padding='same'))\n",
        "model.add(ks.layers.Conv2D(256, (3, 3), strides=1, activation='relu', \n",
        "          kernel_initializer='he_uniform',padding='same'))\n",
        "model.add(ks.layers.MaxPooling2D((2, 2)))\n",
        "model.add(ks.layers.Dropout(0.6))\n",
        "\n",
        "model.add(ks.layers.Flatten())\n",
        "model.add(ks.layers.Dense(512, activation='relu'))\n",
        "model.add(ks.layers.Dropout(0.5))\n",
        "model.add(ks.layers.Dense(512, activation='relu'))\n",
        "model.add(ks.layers.Dropout(0.4))\n",
        "\n",
        "model.add(ks.layers.Dense(10, activation='softmax'))"
      ],
      "execution_count": 2,
      "outputs": []
    },
    {
      "cell_type": "markdown",
      "metadata": {
        "id": "rhpzEhLy9oJq"
      },
      "source": [
        "Para revisar un modelo, nos basta con llamar al método **.summary()** del modelo"
      ]
    },
    {
      "cell_type": "code",
      "metadata": {
        "colab": {
          "base_uri": "https://localhost:8080/"
        },
        "id": "QPzKurY89oJq",
        "outputId": "3e97ec8e-75cd-46b5-b175-b95597f64170"
      },
      "source": [
        "model.summary()"
      ],
      "execution_count": 3,
      "outputs": [
        {
          "output_type": "stream",
          "text": [
            "Model: \"sequential\"\n",
            "_________________________________________________________________\n",
            "Layer (type)                 Output Shape              Param #   \n",
            "=================================================================\n",
            "conv2d (Conv2D)              (None, 32, 32, 64)        1792      \n",
            "_________________________________________________________________\n",
            "conv2d_1 (Conv2D)            (None, 32, 32, 64)        36928     \n",
            "_________________________________________________________________\n",
            "max_pooling2d (MaxPooling2D) (None, 16, 16, 64)        0         \n",
            "_________________________________________________________________\n",
            "dropout (Dropout)            (None, 16, 16, 64)        0         \n",
            "_________________________________________________________________\n",
            "conv2d_2 (Conv2D)            (None, 16, 16, 128)       73856     \n",
            "_________________________________________________________________\n",
            "conv2d_3 (Conv2D)            (None, 16, 16, 128)       147584    \n",
            "_________________________________________________________________\n",
            "conv2d_4 (Conv2D)            (None, 16, 16, 128)       147584    \n",
            "_________________________________________________________________\n",
            "max_pooling2d_1 (MaxPooling2 (None, 8, 8, 128)         0         \n",
            "_________________________________________________________________\n",
            "dropout_1 (Dropout)          (None, 8, 8, 128)         0         \n",
            "_________________________________________________________________\n",
            "conv2d_5 (Conv2D)            (None, 8, 8, 256)         295168    \n",
            "_________________________________________________________________\n",
            "conv2d_6 (Conv2D)            (None, 8, 8, 256)         590080    \n",
            "_________________________________________________________________\n",
            "conv2d_7 (Conv2D)            (None, 8, 8, 256)         590080    \n",
            "_________________________________________________________________\n",
            "max_pooling2d_2 (MaxPooling2 (None, 4, 4, 256)         0         \n",
            "_________________________________________________________________\n",
            "dropout_2 (Dropout)          (None, 4, 4, 256)         0         \n",
            "_________________________________________________________________\n",
            "flatten (Flatten)            (None, 4096)              0         \n",
            "_________________________________________________________________\n",
            "dense (Dense)                (None, 512)               2097664   \n",
            "_________________________________________________________________\n",
            "dropout_3 (Dropout)          (None, 512)               0         \n",
            "_________________________________________________________________\n",
            "dense_1 (Dense)              (None, 512)               262656    \n",
            "_________________________________________________________________\n",
            "dropout_4 (Dropout)          (None, 512)               0         \n",
            "_________________________________________________________________\n",
            "dense_2 (Dense)              (None, 10)                5130      \n",
            "=================================================================\n",
            "Total params: 4,248,522\n",
            "Trainable params: 4,248,522\n",
            "Non-trainable params: 0\n",
            "_________________________________________________________________\n"
          ],
          "name": "stdout"
        }
      ]
    },
    {
      "cell_type": "markdown",
      "metadata": {
        "id": "Y6bEaf7l9oJq"
      },
      "source": [
        "## 3. Optimizador, función error\n"
      ]
    },
    {
      "cell_type": "code",
      "metadata": {
        "id": "zy9M2gdgyeI2"
      },
      "source": [
        "from tensorflow.keras.optimizers import Adam\n",
        "from keras.optimizers import SGD\n",
        "\n",
        "new_adam = Adam(learning_rate=2e-5)\n",
        "\n",
        "#opt = SGD(lr=0.001, momentum=0.9)\n",
        "model.compile(optimizer='Adam', loss='sparse_categorical_crossentropy', metrics=['accuracy'])"
      ],
      "execution_count": 4,
      "outputs": []
    },
    {
      "cell_type": "code",
      "metadata": {
        "id": "eDfwXObn9oJr"
      },
      "source": [
        "#model.compile(optimizer='Adam',\n",
        "#              loss='sparse_categorical_crossentropy',\n",
        "#              metrics=['accuracy'])"
      ],
      "execution_count": 5,
      "outputs": []
    },
    {
      "cell_type": "markdown",
      "metadata": {
        "id": "qHBg7wfE9oJr"
      },
      "source": [
        "## 4. Preparamos los datos\n",
        "\n",
        "Cargamos los datos de CIFAR10 de los datasets directamente de las librerias de Keras. Estos ya estan dispuestos en train and test\n",
        "\n",
        "**Detalle importante:** \n",
        "> La red neuronal requiere que los inputs sean números reales, y lo haremos forzando la division de los valores de dentro de las matrices 28x28 (que tienen valoress del 0 al 255) por 255.0 (un real)"
      ]
    },
    {
      "cell_type": "code",
      "metadata": {
        "id": "9mZWEbQc9oJr"
      },
      "source": [
        "cifar10 = ks.datasets.cifar10\n",
        "\n",
        "(x_train, y_train), (x_test, y_test) = cifar10.load_data()\n",
        "\n",
        "x_train, x_test = x_train / 255.0, x_test / 255.0"
      ],
      "execution_count": 6,
      "outputs": []
    },
    {
      "cell_type": "code",
      "metadata": {
        "colab": {
          "base_uri": "https://localhost:8080/"
        },
        "id": "j8A9za5z9oJr",
        "outputId": "b9b67d9a-05a4-48db-b3a7-a1efe8b90a99"
      },
      "source": [
        "y_train_label = y_train\n",
        "\n",
        "#y_test = ks.utils.to_categorical(y_test)\n",
        "#y_train = ks.utils.to_categorical(y_train)\n",
        "\n",
        "y_test\n",
        "y_train"
      ],
      "execution_count": 7,
      "outputs": [
        {
          "output_type": "execute_result",
          "data": {
            "text/plain": [
              "array([[6],\n",
              "       [9],\n",
              "       [9],\n",
              "       ...,\n",
              "       [9],\n",
              "       [1],\n",
              "       [1]], dtype=uint8)"
            ]
          },
          "metadata": {
            "tags": []
          },
          "execution_count": 7
        }
      ]
    },
    {
      "cell_type": "markdown",
      "metadata": {
        "id": "bQf1GueY9oJs"
      },
      "source": [
        "Obtenemos un array con todas las labels de CIFAR10"
      ]
    },
    {
      "cell_type": "code",
      "metadata": {
        "colab": {
          "base_uri": "https://localhost:8080/"
        },
        "id": "EJR1ydE99oJs",
        "outputId": "cc767aad-8eaf-47e6-fbaa-c63738651482"
      },
      "source": [
        "cifar10_labels = [\n",
        "'airplane', # id 0\n",
        "'automobile',\n",
        "'bird',\n",
        "'cat',\n",
        "'deer',\n",
        "'dog',\n",
        "'frog',\n",
        "'horse',\n",
        "'ship',\n",
        "'truck',\n",
        "]\n",
        "\n",
        "print('Number of labels: %s' % len(cifar10_labels))"
      ],
      "execution_count": 8,
      "outputs": [
        {
          "output_type": "stream",
          "text": [
            "Number of labels: 10\n"
          ],
          "name": "stdout"
        }
      ]
    },
    {
      "cell_type": "markdown",
      "metadata": {
        "id": "WRm5syYA9oJt"
      },
      "source": [
        "Como vamos a querer ir haciendo validación a la vez que entrenamos (muy practico)"
      ]
    },
    {
      "cell_type": "code",
      "metadata": {
        "id": "ll_ESZXN9oJt"
      },
      "source": [
        "x_val = x_train[-10000:]\n",
        "y_val = y_train[-10000:]\n",
        "\n",
        "x_train = x_train[:-10000]\n",
        "y_train = y_train[:-10000]\n"
      ],
      "execution_count": 9,
      "outputs": []
    },
    {
      "cell_type": "markdown",
      "metadata": {
        "id": "857gyhgz9oJt"
      },
      "source": [
        "Cuando añadimos convoluciones, necesitamos \"pre-tratar los datos\", porque **la convolución es pera una matriz de 4 campos** (más parecido a \"imagenes\"), no un array de 3 como son actualmente los data sets de train, test y validación. Así que toca darle al **.reshape()**\n",
        "\n",
        "Por eso, al salir de la Convolution, hay que hacer un Flatten, porque las capas FullDense esperan arrays, no matrices!!\n",
        "\n",
        "Luego lo imprimimos para ver que todo está correcto"
      ]
    },
    {
      "cell_type": "code",
      "metadata": {
        "colab": {
          "base_uri": "https://localhost:8080/"
        },
        "id": "GsD9N7Jf9oJt",
        "outputId": "4e3b3545-3e1b-4264-9c0c-496eb81392ee"
      },
      "source": [
        "# Validamos el resultado\n",
        "print('Train: X=%s, y=%s' % (x_train.shape, y_train.shape))\n",
        "print('Test: X=%s, y=%s' % (x_test.shape, y_test.shape))\n",
        "print('Validation: X=%s, y=%s' % (x_val.shape, y_val.shape))"
      ],
      "execution_count": 10,
      "outputs": [
        {
          "output_type": "stream",
          "text": [
            "Train: X=(40000, 32, 32, 3), y=(40000, 1)\n",
            "Test: X=(10000, 32, 32, 3), y=(10000, 1)\n",
            "Validation: X=(10000, 32, 32, 3), y=(10000, 1)\n"
          ],
          "name": "stdout"
        }
      ]
    },
    {
      "cell_type": "code",
      "metadata": {
        "id": "lPPAE-iPx85I"
      },
      "source": [
        "#x_train_features_vgg = llevar_imagenes_cuellobotella(vgg_model, x_train)\n",
        "#x_val_features_vgg = llevar_imagenes_cuellobotella(vgg_model, x_val)\n",
        "#x_test_features_vgg = llevar_imagenes_cuellobotella(vgg_model, x_test)"
      ],
      "execution_count": 11,
      "outputs": []
    },
    {
      "cell_type": "code",
      "metadata": {
        "id": "DB0EuwbB8Gbv"
      },
      "source": [
        "from tensorflow.keras.preprocessing.image import ImageDataGenerator\n",
        "\n",
        "train_datagen = ImageDataGenerator(\n",
        "    #rescale=1./255,\n",
        "    #rotation_range=15,\n",
        "    #zoom_range=0.1,\n",
        "    #shear_range=0.2,\n",
        "    horizontal_flip=True,\n",
        "    width_shift_range=0.1,\n",
        "    height_shift_range=0.1,\n",
        "    )\n",
        "\n",
        "train_generator = train_datagen.flow(\n",
        "    x_train, \n",
        "    y_train, \n",
        "    batch_size=30\n",
        ")"
      ],
      "execution_count": 12,
      "outputs": []
    },
    {
      "cell_type": "code",
      "metadata": {
        "id": "WysPbptu8Lkp"
      },
      "source": [
        "validation_datagen = ImageDataGenerator(\n",
        "    #rescale=1./255\n",
        "    )\n",
        "validation_generator = validation_datagen.flow(\n",
        "    x_val, \n",
        "    y_val, \n",
        "    batch_size=20\n",
        ")\n",
        "\n",
        "test_datagen = ImageDataGenerator(\n",
        "    #rescale=1./255\n",
        "    )\n",
        "test_generator = test_datagen.flow(\n",
        "    x_test, \n",
        "    y_test,\n",
        "    batch_size=20\n",
        ")"
      ],
      "execution_count": 13,
      "outputs": []
    },
    {
      "cell_type": "code",
      "metadata": {
        "id": "PGwSJNW99Gen"
      },
      "source": [
        "sample = 1100\n",
        "example_generator = train_datagen.flow(\n",
        "    x_train[sample:sample+1],\n",
        "    y_train[sample:sample+1],\n",
        "    batch_size=20\n",
        ")"
      ],
      "execution_count": 14,
      "outputs": []
    },
    {
      "cell_type": "code",
      "metadata": {
        "colab": {
          "base_uri": "https://localhost:8080/",
          "height": 927
        },
        "id": "TJYSeWp_-yLb",
        "outputId": "ba941cd3-c547-4225-de56-946e904302c6"
      },
      "source": [
        "plt.figure(figsize=(12,12))\n",
        "for i in range(0,15):\n",
        "  plt.subplot(5,3,i+1)\n",
        "  for X, y in example_generator:\n",
        "    image = X[0]\n",
        "    plt.imshow(image)\n",
        "    plt.title(y[0])\n",
        "    break\n",
        "\n",
        "plt.tight_layout()\n",
        "plt.show()"
      ],
      "execution_count": 15,
      "outputs": [
        {
          "output_type": "stream",
          "text": [
            "/usr/local/lib/python3.7/dist-packages/matplotlib/text.py:1165: FutureWarning: elementwise comparison failed; returning scalar instead, but in the future will perform elementwise comparison\n",
            "  if s != self._text:\n"
          ],
          "name": "stderr"
        },
        {
          "output_type": "display_data",
          "data": {
            "image/png": "[encoded data removed]",
            "text/plain": [
              "<Figure size 864x864 with 15 Axes>"
            ]
          },
          "metadata": {
            "tags": [],
            "needs_background": "light"
          }
        }
      ]
    },
    {
      "cell_type": "markdown",
      "metadata": {
        "id": "x4CSQVcD9oJu"
      },
      "source": [
        "## 5. Entrenamiento\n",
        "\n",
        "Ya podemos ponernos a entrenar el modelo!! Ojo, que hemos de entrenar contra los datos convertidos al formato que espera la Convolution.\n",
        "\n",
        "Empezaremos con 30 epocs, es decir, 30 pasadas completas del dataset (que a su vez sera con mini-batches internamente), fijando un batch de 64\n",
        "\n",
        "El metodo .fit() nos permite, definir además si disponemos de varias CPUs, GPUs, y si queremos ir validando datos a cada fin de epoch."
      ]
    },
    {
      "cell_type": "code",
      "metadata": {
        "id": "IKtznqVjb3cX"
      },
      "source": [
        "callback = EarlyStopping(monitor='val_loss', patience=10)"
      ],
      "execution_count": 16,
      "outputs": []
    },
    {
      "cell_type": "code",
      "metadata": {
        "id": "WVDxMUFK9oJu"
      },
      "source": [
        "t = time.perf_counter()"
      ],
      "execution_count": 17,
      "outputs": []
    },
    {
      "cell_type": "code",
      "metadata": {
        "colab": {
          "base_uri": "https://localhost:8080/"
        },
        "id": "bdt0zNHtgC6r",
        "outputId": "f359d429-510c-47fc-95e5-03ab7c15ba99"
      },
      "source": [
        "history = model.fit(x_train, y_train, epochs=300, \n",
        "                    use_multiprocessing=False, batch_size= 512, \n",
        "                    callbacks=[callback], \n",
        "                    validation_data=(x_val, y_val))"
      ],
      "execution_count": 18,
      "outputs": [
        {
          "output_type": "stream",
          "text": [
            "Epoch 1/300\n",
            "79/79 [==============================] - 19s 150ms/step - loss: 3.2394 - accuracy: 0.1137 - val_loss: 2.1345 - val_accuracy: 0.2147\n",
            "Epoch 2/300\n",
            "79/79 [==============================] - 10s 128ms/step - loss: 2.1291 - accuracy: 0.2136 - val_loss: 2.1235 - val_accuracy: 0.2130\n",
            "Epoch 3/300\n",
            "79/79 [==============================] - 10s 128ms/step - loss: 1.8947 - accuracy: 0.2812 - val_loss: 1.7406 - val_accuracy: 0.3544\n",
            "Epoch 4/300\n",
            "79/79 [==============================] - 10s 127ms/step - loss: 1.7146 - accuracy: 0.3510 - val_loss: 1.6444 - val_accuracy: 0.3966\n",
            "Epoch 5/300\n",
            "79/79 [==============================] - 10s 127ms/step - loss: 1.5782 - accuracy: 0.4056 - val_loss: 1.5844 - val_accuracy: 0.4343\n",
            "Epoch 6/300\n",
            "79/79 [==============================] - 10s 126ms/step - loss: 1.4982 - accuracy: 0.4473 - val_loss: 1.4597 - val_accuracy: 0.4765\n",
            "Epoch 7/300\n",
            "79/79 [==============================] - 10s 126ms/step - loss: 1.3961 - accuracy: 0.4857 - val_loss: 1.3517 - val_accuracy: 0.5192\n",
            "Epoch 8/300\n",
            "79/79 [==============================] - 10s 126ms/step - loss: 1.3274 - accuracy: 0.5150 - val_loss: 1.4155 - val_accuracy: 0.4902\n",
            "Epoch 9/300\n",
            "79/79 [==============================] - 10s 127ms/step - loss: 1.2765 - accuracy: 0.5384 - val_loss: 1.3220 - val_accuracy: 0.5172\n",
            "Epoch 10/300\n",
            "79/79 [==============================] - 10s 127ms/step - loss: 1.2182 - accuracy: 0.5607 - val_loss: 1.3358 - val_accuracy: 0.5333\n",
            "Epoch 11/300\n",
            "79/79 [==============================] - 10s 127ms/step - loss: 1.1525 - accuracy: 0.5858 - val_loss: 1.3343 - val_accuracy: 0.5275\n",
            "Epoch 12/300\n",
            "79/79 [==============================] - 10s 127ms/step - loss: 1.0982 - accuracy: 0.6065 - val_loss: 1.2276 - val_accuracy: 0.5666\n",
            "Epoch 13/300\n",
            "79/79 [==============================] - 10s 127ms/step - loss: 1.0746 - accuracy: 0.6198 - val_loss: 1.2818 - val_accuracy: 0.5610\n",
            "Epoch 14/300\n",
            "79/79 [==============================] - 10s 127ms/step - loss: 1.0097 - accuracy: 0.6483 - val_loss: 1.0398 - val_accuracy: 0.6367\n",
            "Epoch 15/300\n",
            "79/79 [==============================] - 10s 127ms/step - loss: 0.9891 - accuracy: 0.6469 - val_loss: 1.0766 - val_accuracy: 0.6272\n",
            "Epoch 16/300\n",
            "79/79 [==============================] - 10s 127ms/step - loss: 0.9297 - accuracy: 0.6737 - val_loss: 1.1112 - val_accuracy: 0.6241\n",
            "Epoch 17/300\n",
            "79/79 [==============================] - 10s 126ms/step - loss: 0.8993 - accuracy: 0.6797 - val_loss: 0.9741 - val_accuracy: 0.6564\n",
            "Epoch 18/300\n",
            "79/79 [==============================] - 10s 127ms/step - loss: 0.8988 - accuracy: 0.6827 - val_loss: 0.9651 - val_accuracy: 0.6673\n",
            "Epoch 19/300\n",
            "79/79 [==============================] - 10s 127ms/step - loss: 0.8331 - accuracy: 0.7076 - val_loss: 0.9796 - val_accuracy: 0.6753\n",
            "Epoch 20/300\n",
            "79/79 [==============================] - 10s 127ms/step - loss: 0.8207 - accuracy: 0.7121 - val_loss: 0.9558 - val_accuracy: 0.6836\n",
            "Epoch 21/300\n",
            "79/79 [==============================] - 10s 127ms/step - loss: 0.7866 - accuracy: 0.7231 - val_loss: 1.1581 - val_accuracy: 0.6247\n",
            "Epoch 22/300\n",
            "79/79 [==============================] - 10s 127ms/step - loss: 0.7852 - accuracy: 0.7222 - val_loss: 0.8345 - val_accuracy: 0.7213\n",
            "Epoch 23/300\n",
            "79/79 [==============================] - 10s 127ms/step - loss: 0.7470 - accuracy: 0.7405 - val_loss: 0.8643 - val_accuracy: 0.7032\n",
            "Epoch 24/300\n",
            "79/79 [==============================] - 10s 127ms/step - loss: 0.7382 - accuracy: 0.7441 - val_loss: 0.7885 - val_accuracy: 0.7276\n",
            "Epoch 25/300\n",
            "79/79 [==============================] - 10s 127ms/step - loss: 0.7050 - accuracy: 0.7578 - val_loss: 0.8235 - val_accuracy: 0.7220\n",
            "Epoch 26/300\n",
            "79/79 [==============================] - 10s 127ms/step - loss: 0.7025 - accuracy: 0.7560 - val_loss: 0.7763 - val_accuracy: 0.7415\n",
            "Epoch 27/300\n",
            "79/79 [==============================] - 10s 127ms/step - loss: 0.6745 - accuracy: 0.7647 - val_loss: 0.7774 - val_accuracy: 0.7313\n",
            "Epoch 28/300\n",
            "79/79 [==============================] - 10s 127ms/step - loss: 0.6563 - accuracy: 0.7729 - val_loss: 0.7830 - val_accuracy: 0.7366\n",
            "Epoch 29/300\n",
            "79/79 [==============================] - 10s 127ms/step - loss: 0.6414 - accuracy: 0.7751 - val_loss: 0.6816 - val_accuracy: 0.7611\n",
            "Epoch 30/300\n",
            "79/79 [==============================] - 10s 127ms/step - loss: 0.6368 - accuracy: 0.7788 - val_loss: 0.6734 - val_accuracy: 0.7711\n",
            "Epoch 31/300\n",
            "79/79 [==============================] - 10s 127ms/step - loss: 0.6237 - accuracy: 0.7864 - val_loss: 0.7042 - val_accuracy: 0.7637\n",
            "Epoch 32/300\n",
            "79/79 [==============================] - 10s 126ms/step - loss: 0.6144 - accuracy: 0.7859 - val_loss: 0.7583 - val_accuracy: 0.7424\n",
            "Epoch 33/300\n",
            "79/79 [==============================] - 10s 127ms/step - loss: 0.6040 - accuracy: 0.7904 - val_loss: 0.7293 - val_accuracy: 0.7584\n",
            "Epoch 34/300\n",
            "79/79 [==============================] - 10s 127ms/step - loss: 0.5766 - accuracy: 0.7997 - val_loss: 0.6235 - val_accuracy: 0.7828\n",
            "Epoch 35/300\n",
            "79/79 [==============================] - 10s 127ms/step - loss: 0.5806 - accuracy: 0.7987 - val_loss: 0.6915 - val_accuracy: 0.7687\n",
            "Epoch 36/300\n",
            "79/79 [==============================] - 10s 127ms/step - loss: 0.5458 - accuracy: 0.8102 - val_loss: 0.6736 - val_accuracy: 0.7772\n",
            "Epoch 37/300\n",
            "79/79 [==============================] - 10s 127ms/step - loss: 0.5332 - accuracy: 0.8132 - val_loss: 0.6898 - val_accuracy: 0.7723\n",
            "Epoch 38/300\n",
            "79/79 [==============================] - 10s 127ms/step - loss: 0.5337 - accuracy: 0.8131 - val_loss: 0.6114 - val_accuracy: 0.7917\n",
            "Epoch 39/300\n",
            "79/79 [==============================] - 10s 127ms/step - loss: 0.5317 - accuracy: 0.8166 - val_loss: 0.7494 - val_accuracy: 0.7506\n",
            "Epoch 40/300\n",
            "79/79 [==============================] - 10s 127ms/step - loss: 0.5206 - accuracy: 0.8205 - val_loss: 0.6823 - val_accuracy: 0.7770\n",
            "Epoch 41/300\n",
            "79/79 [==============================] - 10s 127ms/step - loss: 0.5061 - accuracy: 0.8248 - val_loss: 0.6780 - val_accuracy: 0.7759\n",
            "Epoch 42/300\n",
            "79/79 [==============================] - 10s 127ms/step - loss: 0.5077 - accuracy: 0.8218 - val_loss: 0.6320 - val_accuracy: 0.7859\n",
            "Epoch 43/300\n",
            "79/79 [==============================] - 10s 127ms/step - loss: 0.4906 - accuracy: 0.8288 - val_loss: 0.6729 - val_accuracy: 0.7812\n",
            "Epoch 44/300\n",
            "79/79 [==============================] - 10s 126ms/step - loss: 0.4828 - accuracy: 0.8339 - val_loss: 0.5926 - val_accuracy: 0.8004\n",
            "Epoch 45/300\n",
            "79/79 [==============================] - 10s 127ms/step - loss: 0.4746 - accuracy: 0.8343 - val_loss: 0.6136 - val_accuracy: 0.8006\n",
            "Epoch 46/300\n",
            "79/79 [==============================] - 10s 127ms/step - loss: 0.4785 - accuracy: 0.8356 - val_loss: 0.5971 - val_accuracy: 0.8076\n",
            "Epoch 47/300\n",
            "79/79 [==============================] - 10s 127ms/step - loss: 0.4532 - accuracy: 0.8455 - val_loss: 0.6256 - val_accuracy: 0.7930\n",
            "Epoch 48/300\n",
            "79/79 [==============================] - 10s 127ms/step - loss: 0.4471 - accuracy: 0.8434 - val_loss: 0.6548 - val_accuracy: 0.7837\n",
            "Epoch 49/300\n",
            "79/79 [==============================] - 10s 127ms/step - loss: 0.4746 - accuracy: 0.8373 - val_loss: 0.5570 - val_accuracy: 0.8153\n",
            "Epoch 50/300\n",
            "79/79 [==============================] - 10s 127ms/step - loss: 0.4412 - accuracy: 0.8463 - val_loss: 0.5681 - val_accuracy: 0.8155\n",
            "Epoch 51/300\n",
            "79/79 [==============================] - 10s 127ms/step - loss: 0.4627 - accuracy: 0.8387 - val_loss: 0.5941 - val_accuracy: 0.8044\n",
            "Epoch 52/300\n",
            "79/79 [==============================] - 10s 127ms/step - loss: 0.4247 - accuracy: 0.8514 - val_loss: 0.5466 - val_accuracy: 0.8167\n",
            "Epoch 53/300\n",
            "79/79 [==============================] - 10s 127ms/step - loss: 0.4427 - accuracy: 0.8463 - val_loss: 0.5777 - val_accuracy: 0.8108\n",
            "Epoch 54/300\n",
            "79/79 [==============================] - 10s 127ms/step - loss: 0.4167 - accuracy: 0.8538 - val_loss: 0.5928 - val_accuracy: 0.8032\n",
            "Epoch 55/300\n",
            "79/79 [==============================] - 10s 127ms/step - loss: 0.4210 - accuracy: 0.8548 - val_loss: 0.5865 - val_accuracy: 0.8072\n",
            "Epoch 56/300\n",
            "79/79 [==============================] - 10s 127ms/step - loss: 0.4101 - accuracy: 0.8590 - val_loss: 0.5713 - val_accuracy: 0.8103\n",
            "Epoch 57/300\n",
            "79/79 [==============================] - 10s 127ms/step - loss: 0.4205 - accuracy: 0.8533 - val_loss: 0.6107 - val_accuracy: 0.8049\n",
            "Epoch 58/300\n",
            "79/79 [==============================] - 10s 127ms/step - loss: 0.4154 - accuracy: 0.8554 - val_loss: 0.6359 - val_accuracy: 0.7961\n",
            "Epoch 59/300\n",
            "79/79 [==============================] - 10s 127ms/step - loss: 0.3977 - accuracy: 0.8619 - val_loss: 0.6322 - val_accuracy: 0.7960\n",
            "Epoch 60/300\n",
            "79/79 [==============================] - 10s 127ms/step - loss: 0.4200 - accuracy: 0.8574 - val_loss: 0.5425 - val_accuracy: 0.8177\n",
            "Epoch 61/300\n",
            "79/79 [==============================] - 10s 127ms/step - loss: 0.3827 - accuracy: 0.8667 - val_loss: 0.5954 - val_accuracy: 0.8093\n",
            "Epoch 62/300\n",
            "79/79 [==============================] - 10s 127ms/step - loss: 0.3809 - accuracy: 0.8687 - val_loss: 0.6259 - val_accuracy: 0.8050\n",
            "Epoch 63/300\n",
            "79/79 [==============================] - 10s 127ms/step - loss: 0.3714 - accuracy: 0.8710 - val_loss: 0.5557 - val_accuracy: 0.8164\n",
            "Epoch 64/300\n",
            "79/79 [==============================] - 10s 127ms/step - loss: 0.3728 - accuracy: 0.8694 - val_loss: 0.5946 - val_accuracy: 0.8070\n",
            "Epoch 65/300\n",
            "79/79 [==============================] - 10s 127ms/step - loss: 0.3863 - accuracy: 0.8651 - val_loss: 0.5388 - val_accuracy: 0.8223\n",
            "Epoch 66/300\n",
            "79/79 [==============================] - 10s 127ms/step - loss: 0.3599 - accuracy: 0.8752 - val_loss: 0.6152 - val_accuracy: 0.8040\n",
            "Epoch 67/300\n",
            "79/79 [==============================] - 10s 127ms/step - loss: 0.3698 - accuracy: 0.8736 - val_loss: 0.5522 - val_accuracy: 0.8151\n",
            "Epoch 68/300\n",
            "79/79 [==============================] - 10s 127ms/step - loss: 0.3557 - accuracy: 0.8763 - val_loss: 0.5100 - val_accuracy: 0.8271\n",
            "Epoch 69/300\n",
            "79/79 [==============================] - 10s 127ms/step - loss: 0.3740 - accuracy: 0.8711 - val_loss: 0.5234 - val_accuracy: 0.8272\n",
            "Epoch 70/300\n",
            "79/79 [==============================] - 10s 127ms/step - loss: 0.3473 - accuracy: 0.8800 - val_loss: 0.5283 - val_accuracy: 0.8278\n",
            "Epoch 71/300\n",
            "79/79 [==============================] - 10s 127ms/step - loss: 0.3534 - accuracy: 0.8805 - val_loss: 0.6006 - val_accuracy: 0.8040\n",
            "Epoch 72/300\n",
            "79/79 [==============================] - 10s 127ms/step - loss: 0.3514 - accuracy: 0.8779 - val_loss: 0.5361 - val_accuracy: 0.8184\n",
            "Epoch 73/300\n",
            "79/79 [==============================] - 10s 127ms/step - loss: 0.3591 - accuracy: 0.8751 - val_loss: 0.5314 - val_accuracy: 0.8270\n",
            "Epoch 74/300\n",
            "79/79 [==============================] - 10s 127ms/step - loss: 0.3262 - accuracy: 0.8880 - val_loss: 0.5990 - val_accuracy: 0.8108\n",
            "Epoch 75/300\n",
            "79/79 [==============================] - 10s 126ms/step - loss: 0.3454 - accuracy: 0.8816 - val_loss: 0.5721 - val_accuracy: 0.8144\n",
            "Epoch 76/300\n",
            "79/79 [==============================] - 10s 127ms/step - loss: 0.3408 - accuracy: 0.8810 - val_loss: 0.5948 - val_accuracy: 0.8063\n",
            "Epoch 77/300\n",
            "79/79 [==============================] - 10s 126ms/step - loss: 0.3199 - accuracy: 0.8903 - val_loss: 0.5647 - val_accuracy: 0.8192\n",
            "Epoch 78/300\n",
            "79/79 [==============================] - 10s 127ms/step - loss: 0.3287 - accuracy: 0.8874 - val_loss: 0.5159 - val_accuracy: 0.8305\n"
          ],
          "name": "stdout"
        }
      ]
    },
    {
      "cell_type": "code",
      "metadata": {
        "id": "ecp-nOVj9oJu"
      },
      "source": [
        "#history = model.fit(train_generator, steps_per_epoch = 167, \n",
        "#                            validation_steps=50, use_multiprocessing=False,\n",
        "#                            epochs=300, validation_data=validation_generator)\n",
        "\n",
        "#history = model.fit(x_train, y_train, epochs=200, \n",
        "#                    use_multiprocessing=False, batch_size= 512, \n",
        "#                    callbacks=[callback], \n",
        "#                    validation_data=(x_val, y_val))"
      ],
      "execution_count": 19,
      "outputs": []
    },
    {
      "cell_type": "code",
      "metadata": {
        "colab": {
          "base_uri": "https://localhost:8080/"
        },
        "id": "OPFPUNcJ9oJu",
        "outputId": "5988c69c-921c-4680-a93c-4f5c460778e5"
      },
      "source": [
        "elapsed_time = datetime.timedelta(seconds=(time.perf_counter() - t))\n",
        "\n",
        "print('Tiempo de entrenamiento:', elapsed_time)"
      ],
      "execution_count": 20,
      "outputs": [
        {
          "output_type": "stream",
          "text": [
            "Tiempo de entrenamiento: 0:13:10.829959\n"
          ],
          "name": "stdout"
        }
      ]
    },
    {
      "cell_type": "markdown",
      "metadata": {
        "id": "n6Byf3JG9oJu"
      },
      "source": [
        "## 6. Evaluamos los resultados\n",
        "\n",
        "Obtengamos una grafica de como el error y la accuracy van evolucionando en cada epoch en los datos de entrenamiento y en la validación"
      ]
    },
    {
      "cell_type": "code",
      "metadata": {
        "colab": {
          "base_uri": "https://localhost:8080/"
        },
        "id": "j9IaZ3-W9oJv",
        "outputId": "afe9d06d-6888-4bfa-9860-b376b57c4a3b"
      },
      "source": [
        "_, acc = model.evaluate(x_test, y_test, verbose=0)\n",
        "print('> %.3f' % (acc * 100.0))"
      ],
      "execution_count": 21,
      "outputs": [
        {
          "output_type": "stream",
          "text": [
            "> 82.220\n"
          ],
          "name": "stdout"
        }
      ]
    },
    {
      "cell_type": "code",
      "metadata": {
        "colab": {
          "base_uri": "https://localhost:8080/",
          "height": 632
        },
        "id": "GrH8OFmF9oJv",
        "outputId": "f5daf994-10b7-40ce-ef7e-17a1c93ee866"
      },
      "source": [
        "fig, ax = plt.subplots(2,1,figsize=(10,10))\n",
        "ax[0].set_title('Cross Entropy Loss', fontsize = 20)\n",
        "ax[0].plot(history.history['loss'], color='blue', label='Train')\n",
        "ax[0].plot(history.history['val_loss'], color='orange', label='Validation')\n",
        "ax[0].set_ylabel('Cross Entropy Loss', fontsize = 16)\n",
        "ax[0].legend(fontsize = 16)\n",
        "\n",
        "ax[1].set_title('Classification Accuracy', fontsize = 20)\n",
        "ax[1].plot(history.history['accuracy'], color='blue', label='Train')\n",
        "ax[1].plot(history.history['val_accuracy'], color='orange', label='Validation')\n",
        "ax[1].set_ylabel('Classification Accuracy', fontsize = 16)\n",
        "ax[1].set_xlabel('Epochs', fontsize = 16)\n",
        "ax[1].legend(fontsize = 16)\n",
        "\n",
        "plt.show()"
      ],
      "execution_count": 22,
      "outputs": [
        {
          "output_type": "display_data",
          "data": {
            "image/png": "[encoded data removed]",
            "text/plain": [
              "<Figure size 720x720 with 2 Axes>"
            ]
          },
          "metadata": {
            "tags": [],
            "needs_background": "light"
          }
        }
      ]
    },
    {
      "cell_type": "code",
      "metadata": {
        "id": "vAtCbziaKHAs"
      },
      "source": [
        "fig.savefig(\"modelo_\"+str(MODELO)+\".png\")  "
      ],
      "execution_count": 23,
      "outputs": []
    },
    {
      "cell_type": "markdown",
      "metadata": {
        "id": "BT7Xpz409oJv"
      },
      "source": [
        "El coste podemos ver que es estable y es en el epoch 15 que se fija en un valor. Además la accuracy baila alrededor de 0.10. No se puede decir que sea un modelo muy bueno.\n",
        "\n",
        "Veamos que tipo de predicciones estoy obteniendo sobre el conjunto de test (vamos a pintar las imagenes y sus clasificaciones)"
      ]
    },
    {
      "cell_type": "code",
      "metadata": {
        "colab": {
          "base_uri": "https://localhost:8080/",
          "height": 164
        },
        "id": "G4gqi32X9oJw",
        "outputId": "e9b374d1-4028-4c07-ca27-5524cf85dd0c"
      },
      "source": [
        "predictions = model.predict(x_test_features_vgg)"
      ],
      "execution_count": 24,
      "outputs": [
        {
          "output_type": "error",
          "ename": "NameError",
          "evalue": "ignored",
          "traceback": [
            "\u001b[0;31m---------------------------------------------------------------------------\u001b[0m",
            "\u001b[0;31mNameError\u001b[0m                                 Traceback (most recent call last)",
            "\u001b[0;32m<ipython-input-24-be34711b0b5a>\u001b[0m in \u001b[0;36m<module>\u001b[0;34m()\u001b[0m\n\u001b[0;32m----> 1\u001b[0;31m \u001b[0mpredictions\u001b[0m \u001b[0;34m=\u001b[0m \u001b[0mmodel\u001b[0m\u001b[0;34m.\u001b[0m\u001b[0mpredict\u001b[0m\u001b[0;34m(\u001b[0m\u001b[0mx_test_features_vgg\u001b[0m\u001b[0;34m)\u001b[0m\u001b[0;34m\u001b[0m\u001b[0;34m\u001b[0m\u001b[0m\n\u001b[0m",
            "\u001b[0;31mNameError\u001b[0m: name 'x_test_features_vgg' is not defined"
          ]
        }
      ]
    },
    {
      "cell_type": "markdown",
      "metadata": {
        "id": "3blmpM1k9oJw"
      },
      "source": [
        "Una de las ventajas de Python es que hay montones de funciones y código realizado por terceras personas. Aquí me he fusilado unas bonitas funciones (que he adaptado un poco a mis necesidades) para poder pintar las imagenes, su label (ground truth) y las clasificaciones que hemos realizado."
      ]
    },
    {
      "cell_type": "code",
      "metadata": {
        "id": "P02wctIA9oJw"
      },
      "source": [
        "def plot_image(i, predictions_array, true_label, img):\n",
        "  predictions_array, true_label, img = predictions_array, true_label[i], img[i]\n",
        "  plt.grid(False)\n",
        "  plt.xticks([])\n",
        "  plt.yticks([])\n",
        "\n",
        "  plt.imshow(img, cmap=plt.cm.binary)\n",
        "\n",
        "  predicted_label = np.argmax(predictions_array)\n",
        "  if predicted_label == true_label:\n",
        "    color = 'blue'\n",
        "  else:\n",
        "    color = 'red'\n",
        "\n",
        "  plt.xlabel(\"{} {:2.0f}% ({})\".format(predicted_label,\n",
        "                                100*np.max(predictions_array),\n",
        "                                true_label[0]),\n",
        "                                color=color)\n",
        "\n",
        "def plot_value_array(i, predictions_array, true_label):\n",
        "  predictions_array, true_label = predictions_array, true_label[i]\n",
        "  plt.grid(False)\n",
        "  plt.xticks(range(10))\n",
        "  plt.yticks([])\n",
        "  thisplot = plt.bar(range(10), predictions_array, color=\"#777777\")\n",
        "  plt.ylim([0, 1])\n",
        "  predicted_label = np.argmax(predictions_array)\n",
        "\n",
        "  thisplot[predicted_label].set_color('red')\n",
        "  thisplot[true_label[0]].set_color('blue')"
      ],
      "execution_count": null,
      "outputs": []
    },
    {
      "cell_type": "markdown",
      "metadata": {
        "id": "kCoAXQ6e9oJw"
      },
      "source": [
        "Dibujamos las primeras imagenes, con las predicciones y sus valores reales (un total de 20 imagenes, para no abusar de vuestros laptops)\n",
        "\n",
        "Coloreamos las prediciones correctas en azul y los fallos en rojo. Aunque primero he impreso las etiquetas para que tengamos una referencia al grafico."
      ]
    },
    {
      "cell_type": "code",
      "metadata": {
        "id": "4jcGyOkV9oJx"
      },
      "source": [
        "i = 0\n",
        "for l in cifar10_labels:\n",
        "    print(i, l)\n",
        "    i += 1\n",
        "\n",
        "num_rows = 5\n",
        "num_cols = 4\n",
        "start = 650\n",
        "num_images = num_rows*num_cols\n",
        "plt.figure(figsize=(2*2*num_cols, 2*num_rows))\n",
        "for i in range(num_images):\n",
        "  plt.subplot(num_rows, 2*num_cols, 2*i+1)\n",
        "  plot_image(i+start, predictions[i+start], y_test, x_test)\n",
        "  plt.subplot(num_rows, 2*num_cols, 2*i+2)\n",
        "  plot_value_array(i+start, predictions[i+start], y_test)\n",
        "plt.tight_layout()\n",
        "plt.show()"
      ],
      "execution_count": null,
      "outputs": []
    },
    {
      "cell_type": "code",
      "metadata": {
        "id": "wEaRpWif9oJx"
      },
      "source": [
        ""
      ],
      "execution_count": null,
      "outputs": []
    },
    {
      "cell_type": "code",
      "metadata": {
        "id": "RUeYZHYd9oJx"
      },
      "source": [
        ""
      ],
      "execution_count": null,
      "outputs": []
    }
  ]
}